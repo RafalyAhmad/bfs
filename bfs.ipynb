peta = {
    'A': set(['B', 'H']),
    'B': set(['A', 'C', 'H']),
    'C': set(['B', 'D', 'E']),
    'D': set(['C', 'E', 'F', 'G', 'H']),
    'E': set(['C', 'D']),
    'F': set(['D', 'G']),
    'G': set(['F', 'D', 'H']),
    'H': set(['A', 'B', 'D', 'G']),
}


def bfs_lintasan_terpendek(peta, mulai, tujuan):
    if mulai not in peta or tujuan not in peta:
        return "Node awal atau tujuan tidak ditemukan dalam peta."

    if mulai == tujuan:
        return "Awal dan tujuan sama."

    explored = []
    queue = [[mulai]]

    while queue:
        jalur = queue.pop(0)
        node = jalur[-1]

        if node not in explored:
            neighbours = peta[node]
            for neighbour in neighbours:
                jalur_baru = list(jalur)
                jalur_baru.append(neighbour)
                queue.append(jalur_baru)

                if neighbour == tujuan:
                    return jalur_baru

            explored.append(node)

    return "Tidak ada lintasan yang ditemukan antara {} dan {}.".format(mulai, tujuan)


mulai = input("Masukkan awal: ")
tujuan = input("Masukkan akhir: ")

print(bfs_lintasan_terpendek(peta, mulai, tujuan))